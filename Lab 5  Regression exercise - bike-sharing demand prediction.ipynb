{
 "cells": [
  {
   "cell_type": "code",
   "execution_count": 2,
   "id": "a55be792",
   "metadata": {},
   "outputs": [
    {
     "name": "stdout",
     "output_type": "stream",
     "text": [
      "(10886, 12)\n"
     ]
    },
    {
     "data": {
      "text/html": [
       "<div>\n",
       "<style scoped>\n",
       "    .dataframe tbody tr th:only-of-type {\n",
       "        vertical-align: middle;\n",
       "    }\n",
       "\n",
       "    .dataframe tbody tr th {\n",
       "        vertical-align: top;\n",
       "    }\n",
       "\n",
       "    .dataframe thead th {\n",
       "        text-align: right;\n",
       "    }\n",
       "</style>\n",
       "<table border=\"1\" class=\"dataframe\">\n",
       "  <thead>\n",
       "    <tr style=\"text-align: right;\">\n",
       "      <th></th>\n",
       "      <th>datetime</th>\n",
       "      <th>season</th>\n",
       "      <th>holiday</th>\n",
       "      <th>workingday</th>\n",
       "      <th>weather</th>\n",
       "      <th>temp</th>\n",
       "      <th>atemp</th>\n",
       "      <th>humidity</th>\n",
       "      <th>windspeed</th>\n",
       "      <th>casual</th>\n",
       "      <th>registered</th>\n",
       "      <th>count</th>\n",
       "    </tr>\n",
       "  </thead>\n",
       "  <tbody>\n",
       "    <tr>\n",
       "      <th>0</th>\n",
       "      <td>2011-01-01 00:00:00</td>\n",
       "      <td>1</td>\n",
       "      <td>0</td>\n",
       "      <td>0</td>\n",
       "      <td>1</td>\n",
       "      <td>9.84</td>\n",
       "      <td>14.395</td>\n",
       "      <td>81</td>\n",
       "      <td>0.0</td>\n",
       "      <td>3</td>\n",
       "      <td>13</td>\n",
       "      <td>16</td>\n",
       "    </tr>\n",
       "    <tr>\n",
       "      <th>1</th>\n",
       "      <td>2011-01-01 01:00:00</td>\n",
       "      <td>1</td>\n",
       "      <td>0</td>\n",
       "      <td>0</td>\n",
       "      <td>1</td>\n",
       "      <td>9.02</td>\n",
       "      <td>13.635</td>\n",
       "      <td>80</td>\n",
       "      <td>0.0</td>\n",
       "      <td>8</td>\n",
       "      <td>32</td>\n",
       "      <td>40</td>\n",
       "    </tr>\n",
       "    <tr>\n",
       "      <th>2</th>\n",
       "      <td>2011-01-01 02:00:00</td>\n",
       "      <td>1</td>\n",
       "      <td>0</td>\n",
       "      <td>0</td>\n",
       "      <td>1</td>\n",
       "      <td>9.02</td>\n",
       "      <td>13.635</td>\n",
       "      <td>80</td>\n",
       "      <td>0.0</td>\n",
       "      <td>5</td>\n",
       "      <td>27</td>\n",
       "      <td>32</td>\n",
       "    </tr>\n",
       "  </tbody>\n",
       "</table>\n",
       "</div>"
      ],
      "text/plain": [
       "              datetime  season  holiday  workingday  weather  temp   atemp  \\\n",
       "0  2011-01-01 00:00:00       1        0           0        1  9.84  14.395   \n",
       "1  2011-01-01 01:00:00       1        0           0        1  9.02  13.635   \n",
       "2  2011-01-01 02:00:00       1        0           0        1  9.02  13.635   \n",
       "\n",
       "   humidity  windspeed  casual  registered  count  \n",
       "0        81        0.0       3          13     16  \n",
       "1        80        0.0       8          32     40  \n",
       "2        80        0.0       5          27     32  "
      ]
     },
     "execution_count": 2,
     "metadata": {},
     "output_type": "execute_result"
    }
   ],
   "source": [
    "import numpy as np\n",
    "import pandas as pd\n",
    "import seaborn as sns\n",
    "import matplotlib.pyplot as plt\n",
    "%matplotlib inline\n",
    "\n",
    "import warnings\n",
    "warnings.filterwarnings(\"ignore\", category=RuntimeWarning)\n",
    "\n",
    "bike_df = pd.read_csv('./bike-sharing-demand/train.csv')\n",
    "print(bike_df.shape)\n",
    "bike_df.head(3)"
   ]
  },
  {
   "cell_type": "code",
   "execution_count": 3,
   "id": "e029dcd8",
   "metadata": {},
   "outputs": [
    {
     "name": "stdout",
     "output_type": "stream",
     "text": [
      "<class 'pandas.core.frame.DataFrame'>\n",
      "RangeIndex: 10886 entries, 0 to 10885\n",
      "Data columns (total 12 columns):\n",
      " #   Column      Non-Null Count  Dtype  \n",
      "---  ------      --------------  -----  \n",
      " 0   datetime    10886 non-null  object \n",
      " 1   season      10886 non-null  int64  \n",
      " 2   holiday     10886 non-null  int64  \n",
      " 3   workingday  10886 non-null  int64  \n",
      " 4   weather     10886 non-null  int64  \n",
      " 5   temp        10886 non-null  float64\n",
      " 6   atemp       10886 non-null  float64\n",
      " 7   humidity    10886 non-null  int64  \n",
      " 8   windspeed   10886 non-null  float64\n",
      " 9   casual      10886 non-null  int64  \n",
      " 10  registered  10886 non-null  int64  \n",
      " 11  count       10886 non-null  int64  \n",
      "dtypes: float64(3), int64(8), object(1)\n",
      "memory usage: 1020.7+ KB\n"
     ]
    }
   ],
   "source": [
    "bike_df.info()"
   ]
  },
  {
   "cell_type": "markdown",
   "id": "6cd1f7db",
   "metadata": {},
   "source": [
    "#### The features are mostly numeric; however, the 'datetime' column is assigned as object, and to plot this into daily we need reassign them into year-month-day format\n"
   ]
  },
  {
   "cell_type": "code",
   "execution_count": 4,
   "id": "3a36e75b",
   "metadata": {},
   "outputs": [
    {
     "data": {
      "text/html": [
       "<div>\n",
       "<style scoped>\n",
       "    .dataframe tbody tr th:only-of-type {\n",
       "        vertical-align: middle;\n",
       "    }\n",
       "\n",
       "    .dataframe tbody tr th {\n",
       "        vertical-align: top;\n",
       "    }\n",
       "\n",
       "    .dataframe thead th {\n",
       "        text-align: right;\n",
       "    }\n",
       "</style>\n",
       "<table border=\"1\" class=\"dataframe\">\n",
       "  <thead>\n",
       "    <tr style=\"text-align: right;\">\n",
       "      <th></th>\n",
       "      <th>datetime</th>\n",
       "      <th>season</th>\n",
       "      <th>holiday</th>\n",
       "      <th>workingday</th>\n",
       "      <th>weather</th>\n",
       "      <th>temp</th>\n",
       "      <th>atemp</th>\n",
       "      <th>humidity</th>\n",
       "      <th>windspeed</th>\n",
       "      <th>casual</th>\n",
       "      <th>registered</th>\n",
       "      <th>count</th>\n",
       "      <th>year</th>\n",
       "      <th>month</th>\n",
       "      <th>day</th>\n",
       "      <th>hour</th>\n",
       "    </tr>\n",
       "  </thead>\n",
       "  <tbody>\n",
       "    <tr>\n",
       "      <th>0</th>\n",
       "      <td>2011-01-01 00:00:00</td>\n",
       "      <td>1</td>\n",
       "      <td>0</td>\n",
       "      <td>0</td>\n",
       "      <td>1</td>\n",
       "      <td>9.84</td>\n",
       "      <td>14.395</td>\n",
       "      <td>81</td>\n",
       "      <td>0.0</td>\n",
       "      <td>3</td>\n",
       "      <td>13</td>\n",
       "      <td>16</td>\n",
       "      <td>2011</td>\n",
       "      <td>1</td>\n",
       "      <td>1</td>\n",
       "      <td>0</td>\n",
       "    </tr>\n",
       "    <tr>\n",
       "      <th>1</th>\n",
       "      <td>2011-01-01 01:00:00</td>\n",
       "      <td>1</td>\n",
       "      <td>0</td>\n",
       "      <td>0</td>\n",
       "      <td>1</td>\n",
       "      <td>9.02</td>\n",
       "      <td>13.635</td>\n",
       "      <td>80</td>\n",
       "      <td>0.0</td>\n",
       "      <td>8</td>\n",
       "      <td>32</td>\n",
       "      <td>40</td>\n",
       "      <td>2011</td>\n",
       "      <td>1</td>\n",
       "      <td>1</td>\n",
       "      <td>1</td>\n",
       "    </tr>\n",
       "    <tr>\n",
       "      <th>2</th>\n",
       "      <td>2011-01-01 02:00:00</td>\n",
       "      <td>1</td>\n",
       "      <td>0</td>\n",
       "      <td>0</td>\n",
       "      <td>1</td>\n",
       "      <td>9.02</td>\n",
       "      <td>13.635</td>\n",
       "      <td>80</td>\n",
       "      <td>0.0</td>\n",
       "      <td>5</td>\n",
       "      <td>27</td>\n",
       "      <td>32</td>\n",
       "      <td>2011</td>\n",
       "      <td>1</td>\n",
       "      <td>1</td>\n",
       "      <td>2</td>\n",
       "    </tr>\n",
       "  </tbody>\n",
       "</table>\n",
       "</div>"
      ],
      "text/plain": [
       "             datetime  season  holiday  workingday  weather  temp   atemp  \\\n",
       "0 2011-01-01 00:00:00       1        0           0        1  9.84  14.395   \n",
       "1 2011-01-01 01:00:00       1        0           0        1  9.02  13.635   \n",
       "2 2011-01-01 02:00:00       1        0           0        1  9.02  13.635   \n",
       "\n",
       "   humidity  windspeed  casual  registered  count  year  month  day  hour  \n",
       "0        81        0.0       3          13     16  2011      1    1     0  \n",
       "1        80        0.0       8          32     40  2011      1    1     1  \n",
       "2        80        0.0       5          27     32  2011      1    1     2  "
      ]
     },
     "execution_count": 4,
     "metadata": {},
     "output_type": "execute_result"
    }
   ],
   "source": [
    "# Assign datetime into datetime type\n",
    "bike_df['datetime'] = bike_df.datetime.apply(pd.to_datetime)\n",
    "\n",
    "# From the datetime assign year, month, day, and hour\n",
    "bike_df['year'] = bike_df.datetime.apply(lambda x : x.year)\n",
    "bike_df['month'] = bike_df.datetime.apply(lambda x : x.month)\n",
    "bike_df['day'] = bike_df.datetime.apply(lambda x : x.day)\n",
    "bike_df['hour'] = bike_df.datetime.apply(lambda x: x.hour)\n",
    "bike_df.head(3)"
   ]
  },
  {
   "cell_type": "code",
   "execution_count": 5,
   "id": "afa41785",
   "metadata": {},
   "outputs": [
    {
     "data": {
      "text/plain": [
       "(10886, 16)"
      ]
     },
     "execution_count": 5,
     "metadata": {},
     "output_type": "execute_result"
    }
   ],
   "source": [
    "bike_df.shape"
   ]
  },
  {
   "cell_type": "markdown",
   "id": "52cfd0c4",
   "metadata": {},
   "source": [
    "#### Now four features are added (year, month day, hour)"
   ]
  },
  {
   "cell_type": "markdown",
   "id": "4924a0a0",
   "metadata": {},
   "source": [
    "#### However, it seems some of the data is redundant. The count feature is actually the sum of casual and registered bike sharing use. So we are going to delete those features.\n"
   ]
  },
  {
   "cell_type": "code",
   "execution_count": 6,
   "id": "e0207f0d",
   "metadata": {},
   "outputs": [],
   "source": [
    "drop_columns = ['datetime','casual','registered']\n",
    "bike_df.drop(drop_columns, axis=1,inplace=True)"
   ]
  },
  {
   "cell_type": "code",
   "execution_count": 7,
   "id": "40116d8e",
   "metadata": {},
   "outputs": [],
   "source": [
    "# We use sklearn.metrics and import the modules for evluation\n",
    "from sklearn.metrics import mean_squared_error, mean_absolute_error\n",
    "\n",
    "# However, one thing that we should keep in mind is that Sckit learn do not offer RMSLE(Root Mean Suqared Log Error)\n",
    "# Therefore, we have to manually define RMSLE as below\n",
    "def rmsle(y, pred):\n",
    "    log_y = np.log1p(y)\n",
    "    log_pred = np.log1p(pred)\n",
    "    squared_error = (log_y - log_pred) ** 2\n",
    "    rmsle = np.sqrt(np.mean(squared_error))\n",
    "    return rmsle"
   ]
  },
  {
   "cell_type": "code",
   "execution_count": 8,
   "id": "1ea6e798",
   "metadata": {},
   "outputs": [],
   "source": [
    "# RMSE\n",
    "def rmse(y,pred):\n",
    "    return np.sqrt(mean_squared_error(y,pred))"
   ]
  },
  {
   "cell_type": "code",
   "execution_count": 9,
   "id": "ef6a62a7",
   "metadata": {},
   "outputs": [],
   "source": [
    "# MSE, RMSE, RMSLE \n",
    "def evaluate_regr(y,pred):\n",
    "    rmsle_val = rmsle(y,pred)\n",
    "    rmse_val = rmse(y,pred)\n",
    "    \n",
    "    # MAE equation already exists in sklearn modules\n",
    "    mae_val = mean_absolute_error(y,pred)\n",
    "    print('RMSLE: {0:.3f}, RMSE: {1:.3F}, MAE: {2:.3F}'.format(rmsle_val, rmse_val, mae_val))"
   ]
  },
  {
   "cell_type": "markdown",
   "id": "a0969716",
   "metadata": {},
   "source": [
    "## 2. Modelling\n",
    "### Let's use linear regression first"
   ]
  },
  {
   "cell_type": "code",
   "execution_count": 10,
   "id": "3d9e0691",
   "metadata": {},
   "outputs": [
    {
     "name": "stdout",
     "output_type": "stream",
     "text": [
      "RMSLE: 1.165, RMSE: 140.900, MAE: 105.924\n"
     ]
    }
   ],
   "source": [
    "from sklearn.model_selection import train_test_split , GridSearchCV\n",
    "from sklearn.linear_model import LinearRegression , Ridge , Lasso\n",
    "\n",
    "y_target = bike_df['count']\n",
    "X_features = bike_df.drop(['count'],axis=1,inplace=False)\n",
    "\n",
    "X_train, X_test, y_train, y_test = train_test_split(X_features, y_target, test_size=0.3, random_state=0)\n",
    "\n",
    "lr_reg = LinearRegression()\n",
    "lr_reg.fit(X_train, y_train)\n",
    "pred = lr_reg.predict(X_test)\n",
    "\n",
    "evaluate_regr(y_test ,pred)"
   ]
  },
  {
   "cell_type": "markdown",
   "id": "97b6fd2e",
   "metadata": {},
   "source": [
    "#### Considering the bike-sharing count we have... the error is a bit high"
   ]
  },
  {
   "cell_type": "code",
   "execution_count": 11,
   "id": "712e138e",
   "metadata": {},
   "outputs": [
    {
     "data": {
      "text/plain": [
       "count    10886.000000\n",
       "mean       191.574132\n",
       "std        181.144454\n",
       "min          1.000000\n",
       "25%         42.000000\n",
       "50%        145.000000\n",
       "75%        284.000000\n",
       "max        977.000000\n",
       "Name: count, dtype: float64"
      ]
     },
     "execution_count": 11,
     "metadata": {},
     "output_type": "execute_result"
    }
   ],
   "source": [
    "bike_df['count'].describe()"
   ]
  },
  {
   "cell_type": "markdown",
   "id": "a551e6fd",
   "metadata": {},
   "source": [
    "#### So let's compare the prediction with actual data"
   ]
  },
  {
   "cell_type": "code",
   "execution_count": 12,
   "id": "06e728d2",
   "metadata": {},
   "outputs": [
    {
     "name": "stdout",
     "output_type": "stream",
     "text": [
      "      real_count  predicted_count   diff\n",
      "1618         890            322.0  568.0\n",
      "3151         798            241.0  557.0\n",
      "966          884            327.0  557.0\n",
      "412          745            194.0  551.0\n",
      "2817         856            310.0  546.0\n"
     ]
    }
   ],
   "source": [
    "def get_top_error_data(y_test, pred, n_tops = 5):\n",
    "    # Using Featuers in DataFrame and comparing them with one another\n",
    "    result_df = pd.DataFrame(y_test.values, columns=['real_count'])\n",
    "    result_df['predicted_count']= np.round(pred)\n",
    "    result_df['diff'] = np.abs(result_df['real_count'] - result_df['predicted_count'])\n",
    "    # Pulling out them in orders\n",
    "    print(result_df.sort_values('diff', ascending=False)[:n_tops])\n",
    "    \n",
    "get_top_error_data(y_test,pred,n_tops=5)"
   ]
  },
  {
   "cell_type": "markdown",
   "id": "6ee8953a",
   "metadata": {},
   "source": [
    "#### The average bike-sharing use was 191 and median was 145. Prediction gap greater than 500 does not seem to fit actual result"
   ]
  },
  {
   "cell_type": "markdown",
   "id": "0e714d7b",
   "metadata": {},
   "source": [
    "## The reson is the bike-sharing count is left biased"
   ]
  },
  {
   "cell_type": "code",
   "execution_count": 13,
   "id": "d6a19324",
   "metadata": {},
   "outputs": [
    {
     "data": {
      "text/plain": [
       "<Axes: >"
      ]
     },
     "execution_count": 13,
     "metadata": {},
     "output_type": "execute_result"
    },
    {
     "data": {
      "image/png": "[encoded data removed]",
      "text/plain": [
       "<Figure size 640x480 with 1 Axes>"
      ]
     },
     "metadata": {},
     "output_type": "display_data"
    }
   ],
   "source": [
    "y_target.hist()"
   ]
  },
  {
   "cell_type": "markdown",
   "id": "a45bbebc",
   "metadata": {},
   "source": [
    "### Let's take log on our DV"
   ]
  },
  {
   "cell_type": "code",
   "execution_count": 14,
   "id": "c937e8d7",
   "metadata": {},
   "outputs": [
    {
     "data": {
      "text/plain": [
       "<Axes: >"
      ]
     },
     "execution_count": 14,
     "metadata": {},
     "output_type": "execute_result"
    },
    {
     "data": {
      "image/png": "[encoded data removed]",
      "text/plain": [
       "<Figure size 640x480 with 1 Axes>"
      ]
     },
     "metadata": {},
     "output_type": "display_data"
    }
   ],
   "source": [
    "y_log_transform = np.log1p(y_target)\n",
    "y_log_transform.hist()"
   ]
  },
  {
   "cell_type": "markdown",
   "id": "d36c89af",
   "metadata": {},
   "source": [
    "#### Now it seems the variable more seem to follow normalized distribution. Let's retrain your linear model."
   ]
  },
  {
   "cell_type": "code",
   "execution_count": 15,
   "id": "b837775b",
   "metadata": {},
   "outputs": [
    {
     "name": "stdout",
     "output_type": "stream",
     "text": [
      "RMSLE: 1.017, RMSE: 162.594, MAE: 109.286\n"
     ]
    }
   ],
   "source": [
    "\n",
    "y_target_log = np.log1p(y_target)\n",
    "\n",
    "X_train, X_test, y_train, y_test = train_test_split(X_features, y_target_log, test_size=0.3, random_state=0)\n",
    "lr_reg = LinearRegression()\n",
    "lr_reg.fit(X_train, y_train)\n",
    "pred = lr_reg.predict(X_test)\n",
    "\n",
    "y_test_exp = np.expm1(y_test)\n",
    "\n",
    "pred_exp = np.expm1(pred)\n",
    "\n",
    "evaluate_regr(y_test_exp ,pred_exp)"
   ]
  },
  {
   "cell_type": "markdown",
   "id": "1018b0d8",
   "metadata": {},
   "source": [
    "#### The RMSLE score decreased; however, RMSE increased. What's happening here?"
   ]
  },
  {
   "cell_type": "markdown",
   "id": "198e6455",
   "metadata": {},
   "source": [
    "## 3. Model Validation"
   ]
  },
  {
   "cell_type": "markdown",
   "id": "c71c980e",
   "metadata": {},
   "source": [
    "### Take a look on features' coefficient"
   ]
  },
  {
   "cell_type": "code",
   "execution_count": 16,
   "id": "760cdbc6",
   "metadata": {},
   "outputs": [
    {
     "data": {
      "text/plain": [
       "<Axes: >"
      ]
     },
     "execution_count": 16,
     "metadata": {},
     "output_type": "execute_result"
    },
    {
     "data": {
      "image/png": "[encoded data removed]",
      "text/plain": [
       "<Figure size 640x480 with 1 Axes>"
      ]
     },
     "metadata": {},
     "output_type": "display_data"
    }
   ],
   "source": [
    "coef = pd.Series(lr_reg.coef_, index=X_features.columns)\n",
    "coef_sort = coef.sort_values(ascending=False)\n",
    "sns.barplot(x=coef_sort.values, y=coef_sort.index)"
   ]
  },
  {
   "cell_type": "markdown",
   "id": "782d087f",
   "metadata": {},
   "source": [
    "### Datetime feature including year, hour, month, day is having greatest coefficient.\n",
    "### The data is only from year 2011 and 2012 so year having highest coefficient does not make sense."
   ]
  },
  {
   "cell_type": "markdown",
   "id": "4677a241",
   "metadata": {},
   "source": [
    "## It's because the value is affecting your training\n",
    "### -> One Hot Encoding"
   ]
  },
  {
   "cell_type": "markdown",
   "id": "3beb65b4",
   "metadata": {},
   "source": [
    "### Year and Day is just a date itself; year 2012 does not have greater value than year 2011. It is just label."
   ]
  },
  {
   "cell_type": "code",
   "execution_count": 17,
   "id": "ae3f0e02",
   "metadata": {},
   "outputs": [],
   "source": [
    "# 'year', month', 'day', hour' -> One hot encoding\n",
    "X_features_ohe = pd.get_dummies(X_features, columns=['year', 'month','day', 'hour', 'holiday',\n",
    "                                              'workingday','season','weather'])"
   ]
  },
  {
   "cell_type": "markdown",
   "id": "28159052",
   "metadata": {},
   "source": [
    "### Retrain your data after one hot encoding\n",
    "#### I'll be modelling ridge and Lasso too"
   ]
  },
  {
   "cell_type": "code",
   "execution_count": 18,
   "id": "8ab12ee6",
   "metadata": {},
   "outputs": [
    {
     "name": "stdout",
     "output_type": "stream",
     "text": [
      "### LinearRegression ###\n",
      "RMSLE: 0.590, RMSE: 97.688, MAE: 63.382\n",
      "### Ridge ###\n",
      "RMSLE: 0.590, RMSE: 98.529, MAE: 63.893\n",
      "### Lasso ###\n",
      "RMSLE: 0.635, RMSE: 113.219, MAE: 72.803\n"
     ]
    }
   ],
   "source": [
    "X_train, X_test, y_train, y_test = train_test_split(X_features_ohe, y_target_log,\n",
    "                                                    test_size=0.3, random_state=0)\n",
    "\n",
    "# Error Score\n",
    "def get_model_predict(model, X_train, X_test, y_train, y_test, is_expm1=False):\n",
    "    model.fit(X_train, y_train)\n",
    "    pred = model.predict(X_test)\n",
    "    if is_expm1 :\n",
    "        y_test = np.expm1(y_test)\n",
    "        pred = np.expm1(pred)\n",
    "    print('###',model.__class__.__name__,'###')\n",
    "    evaluate_regr(y_test, pred)\n",
    "# end of function get_model_predict    \n",
    "\n",
    "# model Evluation\n",
    "lr_reg = LinearRegression()\n",
    "ridge_reg = Ridge(alpha=10)\n",
    "lasso_reg = Lasso(alpha=0.01)\n",
    "\n",
    "for model in [lr_reg, ridge_reg, lasso_reg]:\n",
    "    get_model_predict(model,X_train, X_test, y_train, y_test,is_expm1=True)"
   ]
  },
  {
   "cell_type": "markdown",
   "id": "18195b22",
   "metadata": {},
   "source": [
    "### Replot coefficient"
   ]
  },
  {
   "cell_type": "code",
   "execution_count": 19,
   "id": "12302d63",
   "metadata": {},
   "outputs": [
    {
     "data": {
      "text/plain": [
       "<Axes: >"
      ]
     },
     "execution_count": 19,
     "metadata": {},
     "output_type": "execute_result"
    },
    {
     "data": {
      "image/png": "[encoded data removed]",
      "text/plain": [
       "<Figure size 640x480 with 1 Axes>"
      ]
     },
     "metadata": {},
     "output_type": "display_data"
    }
   ],
   "source": [
    "coef = pd.Series(lr_reg.coef_ , index=X_features_ohe.columns)\n",
    "coef_sort = coef.sort_values(ascending=False)[:20]\n",
    "sns.barplot(x=coef_sort.values , y=coef_sort.index)"
   ]
  },
  {
   "cell_type": "markdown",
   "id": "ee077424",
   "metadata": {},
   "source": [
    "## In linear model, how you setup your feature hugely effect your models"
   ]
  },
  {
   "cell_type": "markdown",
   "id": "f1649e10",
   "metadata": {},
   "source": [
    "## +Bonus, I'll train DecisionTree based regression models too"
   ]
  },
  {
   "cell_type": "code",
   "execution_count": 20,
   "id": "732bf0a9",
   "metadata": {},
   "outputs": [
    {
     "name": "stdout",
     "output_type": "stream",
     "text": [
      "### RandomForestRegressor ###\n",
      "RMSLE: 0.354, RMSE: 50.360, MAE: 31.133\n",
      "### GradientBoostingRegressor ###\n",
      "RMSLE: 0.330, RMSE: 53.330, MAE: 32.737\n",
      "### XGBRegressor ###\n",
      "RMSLE: 0.339, RMSE: 51.475, MAE: 31.357\n",
      "[LightGBM] [Info] Auto-choosing row-wise multi-threading, the overhead of testing was 0.000228 seconds.\n",
      "You can set `force_row_wise=true` to remove the overhead.\n",
      "And if memory is not enough, you can set `force_col_wise=true`.\n",
      "[LightGBM] [Info] Total Bins 348\n",
      "[LightGBM] [Info] Number of data points in the train set: 7620, number of used features: 72\n",
      "[LightGBM] [Info] Start training from score 4.582043\n",
      "### LGBMRegressor ###\n",
      "RMSLE: 0.319, RMSE: 47.215, MAE: 29.029\n"
     ]
    }
   ],
   "source": [
    "from sklearn.ensemble import RandomForestRegressor, GradientBoostingRegressor\n",
    "from xgboost import XGBRegressor\n",
    "from lightgbm import LGBMRegressor\n",
    "\n",
    "# RandomForest, GBM, XGBoost, LightGBM model \n",
    "rf_reg = RandomForestRegressor(n_estimators=500)\n",
    "gbm_reg = GradientBoostingRegressor(n_estimators=500)\n",
    "xgb_reg = XGBRegressor(n_estimators=500)\n",
    "lgbm_reg = LGBMRegressor(n_estimators=500)\n",
    "\n",
    "for model in [rf_reg, gbm_reg, xgb_reg, lgbm_reg]:\n",
    "    # XGBoost may troubleshoot if your input is DataFrame so assign them in ndarray\n",
    "    get_model_predict(model,X_train.values, X_test.values, y_train.values, y_test.values,is_expm1=True)"
   ]
  },
  {
   "cell_type": "markdown",
   "id": "74110749",
   "metadata": {},
   "source": [
    "## Ultimately, the model performance depends on features and how we setup & preprocess those features"
   ]
  },
  {
   "cell_type": "markdown",
   "id": "e3f467a3",
   "metadata": {},
   "source": [
    "### In DecisionTree models and classifiaction models (both linear + nonlinear) you can pull out feature importances"
   ]
  },
  {
   "cell_type": "code",
   "execution_count": 22,
   "id": "1d6e35dd",
   "metadata": {},
   "outputs": [
    {
     "data": {
      "image/png": "[encoded data removed]",
      "text/plain": [
       "<Figure size 1500x1000 with 1 Axes>"
      ]
     },
     "metadata": {},
     "output_type": "display_data"
    }
   ],
   "source": [
    "import matplotlib.pyplot as plt\n",
    "import seaborn as sns\n",
    "%matplotlib inline\n",
    "\n",
    "from matplotlib import font_manager, rc\n",
    "# font_path = \"C:/Windows/Fonts/NanumBarunGothic.TTF\"\n",
    "# font = font_manager.FontProperties(fname=font_path).get_name()\n",
    "# rc('font', family=font)\n",
    "\n",
    "ftr_importances_values = rf_reg.feature_importances_\n",
    "ftr_importances = pd.Series(ftr_importances_values,index=X_train.columns  )\n",
    "ftr_top20 = ftr_importances.sort_values(ascending=False)[:20]\n",
    "\n",
    "plt.figure(figsize=(15,10))\n",
    "plt.title('Feature Importance')\n",
    "sns.barplot(x=ftr_top20 , y = ftr_top20.index)\n",
    "sns.set(font_scale=1.1)\n",
    "plt.show()"
   ]
  },
  {
   "cell_type": "code",
   "execution_count": null,
   "id": "08c9f80b",
   "metadata": {},
   "outputs": [],
   "source": []
  }
 ],
 "metadata": {
  "kernelspec": {
   "display_name": "Python 3 (ipykernel)",
   "language": "python",
   "name": "python3"
  },
  "language_info": {
   "codemirror_mode": {
    "name": "ipython",
    "version": 3
   },
   "file_extension": ".py",
   "mimetype": "text/x-python",
   "name": "python",
   "nbconvert_exporter": "python",
   "pygments_lexer": "ipython3",
   "version": "3.9.12"
  }
 },
 "nbformat": 4,
 "nbformat_minor": 5
}
