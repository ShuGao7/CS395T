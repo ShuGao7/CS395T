{
 "cells": [
  {
   "cell_type": "code",
   "execution_count": 1,
   "id": "7fabc883",
   "metadata": {},
   "outputs": [
    {
     "name": "stdout",
     "output_type": "stream",
     "text": [
      "(3, 2)\n"
     ]
    }
   ],
   "source": [
    "import numpy as np\n",
    "a = np.array([1,2,3])\n",
    "b = np.array([4,5,6])\n",
    "c = np.stack((a,b), axis=1)\n",
    "print(c.shape)"
   ]
  },
  {
   "cell_type": "markdown",
   "id": "b213e5f0",
   "metadata": {},
   "source": [
    "Question4  \n",
    "suppose you have a pandas dataframe df with a conlumn 'A' that contains integers and a column 'B' that contains strings.  \n",
    "what is the correct correct syntax to select the rows where column A is greater than 5 and column B contains \n",
    "the substring 'abc'  \n",
    "\n",
    "df[(df['A']>5) & (df['B'].contains('abc'))]  \n",
    "df[(df['A']>5) & (df['B'].str.contains('abc'))]  \n",
    "df[(df['A']>5) & (df['B'].isin('abc'))]  \n",
    "df[(df['A']>5) & (df['B'].str.isin('abc'))]  "
   ]
  },
  {
   "cell_type": "markdown",
   "id": "9b253877",
   "metadata": {},
   "source": [
    "Question5 \n",
    "suppose you have a pandas dataframe called df with conlumn 'A', 'B' and 'C', which of the following lines of code will create a new DataFrame that includes only row where the value in column 'A' is greater than 10?\n",
    "\n",
    "new_df = df.loc[df['A']>10 and df['B']>5]  \n",
    "new_df = df.iloc[df['A']>10] \n",
    "new_df = df[df['A']>10 ]  \n",
    "new_df = df[('A'>10) & ('B'>5)]  "
   ]
  },
  {
   "cell_type": "markdown",
   "id": "8d504075",
   "metadata": {},
   "source": [
    "Question 6  \n",
    "After a year of work, you have create a Decision Tree model for emial-spam classification. Initially, you evaluated your model's performance using the Gini score, based on the probability scores of \"n\" classes, where n=2: \"spam\" and \"not-spam\". However you have now decide to use the \"edx gini impurity\" to measure your model's impurity. The edx gini impurity is defined as (1-gini)\n",
    "\n",
    "suppose you collected 120 samples initially, with an even split of 50% spam and 50% not-spam. You create a root with two sub-nodes: one \"above-average\" sub-node containing 40 spam cases and 20 non-spam cases. What is the edx gini impurity for the below-average sub-node? Round your answer down to two decimal points.\n",
    "Hint1: Don't get confused with gini with \"edx gini\"\n",
    "Hint2: Here, the Edx Gini Impurity refers: the lower the value, the more mixed the set is, and the higher the value, the purer the set is.  \n",
    "0.11  \n",
    "0.22  \n",
    "0.33  \n",
    "0.44  \n",
    "0.55  "
   ]
  },
  {
   "cell_type": "markdown",
   "id": "09c560af",
   "metadata": {},
   "source": [
    "Question 7  \n",
    "Suppose you have a linear regression model with 10 input features. To prevent overfitting, you want to use L1 regularization. If the regularization parameter lambda is set to 0.1, what is the value of the L1 regularization term for the following set of weights:  \n",
    "w = [0.5, -1.2, 0.7, 1.0, -0.8, 0.3, 0.1, -0.2, 0.5, -0.3]\n",
    "\n",
    "0.36  \n",
    "0.46  \n",
    "0.56  \n",
    "3.6  \n",
    "5.6  \n"
   ]
  },
  {
   "cell_type": "markdown",
   "id": "4f519b72",
   "metadata": {},
   "source": [
    "Question 8  \n",
    "\n",
    "What is the correct purpose of splitting a node in a decision tree?  \n",
    "To make the tree shorter  \n",
    "To increase the tree's accuracy  \n",
    "To decrease the tree's accuracy  \n",
    "To replicate the population  \n",
    "To decrease the dimensions  "
   ]
  },
  {
   "cell_type": "markdown",
   "id": "5eeecaf1",
   "metadata": {},
   "source": [
    "Question 9\n",
    "\n",
    "What is the difference between a classification tree and a regression tree?  \n",
    "A classification tree is used for predicting continuous values, while a regression tree is used for predicting categorical values  \n",
    "A classification tree is used for predicting categorical values, while a regression tree is used for predicting continuous values  \n",
    "Both classification and regression trees are used for predicting categorical values  \n",
    "Both classification and regression trees are used for predicting continuous values  "
   ]
  },
  {
   "cell_type": "markdown",
   "id": "29b32401",
   "metadata": {},
   "source": [
    "Question 10  \n",
    "Suppose you have built a decision trss classifier to predict whether a persion is likely to buy a car or not based on their age, income, and credit score. You have a test of 1000 examples, and when you evaluate your model on this set, you obtain the following results:  \n",
    "True Positive:200  \n",
    "False Positive: 50  \n",
    "True Negative: 650\n",
    "False Negative: 100  \n",
    "What is the F1-score of the model?(Rounded to the nearest hundred).  \n",
    "0.53  \n",
    "0.63  \n",
    "0.73  \n",
    "0.83  \n",
    "0.93  "
   ]
  }
 ],
 "metadata": {
  "kernelspec": {
   "display_name": "Python 3 (ipykernel)",
   "language": "python",
   "name": "python3"
  },
  "language_info": {
   "codemirror_mode": {
    "name": "ipython",
    "version": 3
   },
   "file_extension": ".py",
   "mimetype": "text/x-python",
   "name": "python",
   "nbconvert_exporter": "python",
   "pygments_lexer": "ipython3",
   "version": "3.9.12"
  }
 },
 "nbformat": 4,
 "nbformat_minor": 5
}
